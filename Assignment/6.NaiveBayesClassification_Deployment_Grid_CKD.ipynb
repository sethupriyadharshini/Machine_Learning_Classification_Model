{
 "cells": [
  {
   "cell_type": "code",
   "execution_count": 7,
   "id": "ce7859b5-6d41-463e-8d8a-60069045021b",
   "metadata": {},
   "outputs": [
    {
     "name": "stdin",
     "output_type": "stream",
     "text": [
      "enter the age:  38\n",
      "enter the bp:  160\n",
      "enter the al:  3\n",
      "enter the su:  4\n",
      "enter the bgr:  148.117\n",
      "enter the bu:  22\n",
      "enter the sc:  0.7\n",
      "enter the sod:  138\n",
      "enter the pot:  4.4\n",
      "enter the hrmo:  12\n",
      "enter the pcv:  30\n",
      "enter the wc:  12300\n",
      "enter the rc:  5.6\n",
      "enter the sg_b:  0\n",
      "enter the sg_c:  0\n",
      "enter the sg_d:  0\n",
      "enter the sg_e:  0\n",
      "enter the rbc_normal:  0\n",
      "enter the pc_normal:  1\n",
      "enter the pcc_present:  0\n",
      "enter the ba_present:  1\n",
      "enter the htn_yes:  1\n",
      "enter the dm_yes:  0\n",
      "enter the cad_yes:  1\n",
      "enter the appet_yes:  0\n",
      "enter the pe_yes:  1\n",
      "enter the ane_yes:  1\n"
     ]
    }
   ],
   "source": [
    "import pickle\n",
    "\n",
    "age = float(input(\"enter the age: \"))\n",
    "bp = float(input(\"enter the bp: \"))\n",
    "al = float(input(\"enter the al: \"))\n",
    "su = float(input(\"enter the su: \"))\n",
    "bgr = float(input(\"enter the bgr: \"))\n",
    "bu = float(input(\"enter the bu: \"))\n",
    "sc = float(input(\"enter the sc: \"))\n",
    "sod = float(input(\"enter the sod: \"))\n",
    "pot = float(input(\"enter the pot: \"))\n",
    "hrmo = float(input(\"enter the hrmo: \"))\n",
    "pcv = float(input(\"enter the pcv: \"))\n",
    "wc = float(input(\"enter the wc: \"))\n",
    "rc = float(input(\"enter the rc: \"))\n",
    "sg_b = int(input(\"enter the sg_b: \"))\n",
    "sg_c = int(input(\"enter the sg_c: \"))\n",
    "sg_d = int(input(\"enter the sg_d: \"))\n",
    "sg_e = int(input(\"enter the sg_e: \"))\n",
    "rbc_normal = int(input(\"enter the rbc_normal: \"))\n",
    "pc_normal = int(input(\"enter the pc_normal: \"))\n",
    "pcc_present = int(input(\"enter the pcc_present: \"))\n",
    "ba_present = int(input(\"enter the ba_present: \"))\n",
    "htn_yes = int(input(\"enter the htn_yes: \"))\n",
    "dm_yes = int(input(\"enter the dm_yes: \"))\n",
    "cad_yes = int(input(\"enter the cad_yes: \"))\n",
    "appet_yes = int(input(\"enter the appet_yes: \"))\n",
    "pe_yes = int(input(\"enter the pe_yes: \"))\n",
    "ane_yes = int(input(\"enter the ane_yes: \"))\n"
   ]
  },
  {
   "cell_type": "code",
   "execution_count": 11,
   "id": "031fa79d-a230-4872-8d7f-de8dd846dd20",
   "metadata": {},
   "outputs": [
    {
     "name": "stderr",
     "output_type": "stream",
     "text": [
      "C:\\Users\\sethu\\anaconda3\\Lib\\site-packages\\sklearn\\base.py:493: UserWarning: X does not have valid feature names, but CategoricalNB was fitted with feature names\n",
      "  warnings.warn(\n"
     ]
    },
    {
     "data": {
      "text/plain": [
       "1"
      ]
     },
     "execution_count": 11,
     "metadata": {},
     "output_type": "execute_result"
    }
   ],
   "source": [
    "loaded_model = pickle.load(open(\"finalized_model_nv_Gaussian_classification.sav\", \"rb\")) \n",
    "result = loaded_model.predict([[age, bp, al, su, bgr, bu, sc, sod, pot, hrmo, pcv,wc, rc, sg_b, sg_c, sg_d, sg_e, rbc_normal, pc_normal,\n",
    "       pcc_present, ba_present, htn_yes, dm_yes, cad_yes,appet_yes, pe_yes, ane_yes]]) #([[38,160,3,4,148.117,22,0.7,138,4.4,12,30,12300,5.6,0,0,0,0,0,1,0,1,1,0,1,0,1,1]])\n",
    "\n",
    "result[0]"
   ]
  },
  {
   "cell_type": "code",
   "execution_count": null,
   "id": "10a0813d-02eb-468c-9e4f-9038c30ce7c6",
   "metadata": {},
   "outputs": [],
   "source": []
  },
  {
   "cell_type": "code",
   "execution_count": null,
   "id": "e9b2d62a-a8bb-4b72-9acc-b48485d84906",
   "metadata": {},
   "outputs": [],
   "source": []
  }
 ],
 "metadata": {
  "kernelspec": {
   "display_name": "Python [conda env:base] *",
   "language": "python",
   "name": "conda-base-py"
  },
  "language_info": {
   "codemirror_mode": {
    "name": "ipython",
    "version": 3
   },
   "file_extension": ".py",
   "mimetype": "text/x-python",
   "name": "python",
   "nbconvert_exporter": "python",
   "pygments_lexer": "ipython3",
   "version": "3.12.7"
  }
 },
 "nbformat": 4,
 "nbformat_minor": 5
}
