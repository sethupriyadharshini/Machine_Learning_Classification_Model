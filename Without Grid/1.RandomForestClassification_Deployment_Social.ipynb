{
 "cells": [
  {
   "cell_type": "code",
   "execution_count": 1,
   "id": "ce7859b5-6d41-463e-8d8a-60069045021b",
   "metadata": {},
   "outputs": [
    {
     "name": "stdin",
     "output_type": "stream",
     "text": [
      "enter the age:  37\n",
      "enter the salary:  70000\n",
      "enter the gender - Male -> 1 and Female -> 0:  1\n"
     ]
    }
   ],
   "source": [
    "import pickle\n",
    "\n",
    "age = int(input(\"enter the age: \"))\n",
    "salary = int(input(\"enter the salary: \"))\n",
    "gender = int(input(\"enter the gender - Male -> 1 and Female -> 0: \"))\n"
   ]
  },
  {
   "cell_type": "code",
   "execution_count": 3,
   "id": "031fa79d-a230-4872-8d7f-de8dd846dd20",
   "metadata": {},
   "outputs": [
    {
     "name": "stderr",
     "output_type": "stream",
     "text": [
      "C:\\Users\\sethu\\anaconda3\\Lib\\site-packages\\sklearn\\base.py:493: UserWarning: X does not have valid feature names, but RandomForestClassifier was fitted with feature names\n",
      "  warnings.warn(\n"
     ]
    },
    {
     "data": {
      "text/plain": [
       "1"
      ]
     },
     "execution_count": 3,
     "metadata": {},
     "output_type": "execute_result"
    }
   ],
   "source": [
    "loaded_model = pickle.load(open(\"finalized_model_random_forest_classification.sav\", \"rb\"))\n",
    "result = loaded_model.predict([[age, salary, gender]])\n",
    "\n",
    "result[0]"
   ]
  },
  {
   "cell_type": "code",
   "execution_count": null,
   "id": "10a0813d-02eb-468c-9e4f-9038c30ce7c6",
   "metadata": {},
   "outputs": [],
   "source": []
  },
  {
   "cell_type": "code",
   "execution_count": null,
   "id": "e9b2d62a-a8bb-4b72-9acc-b48485d84906",
   "metadata": {},
   "outputs": [],
   "source": []
  }
 ],
 "metadata": {
  "kernelspec": {
   "display_name": "Python [conda env:base] *",
   "language": "python",
   "name": "conda-base-py"
  },
  "language_info": {
   "codemirror_mode": {
    "name": "ipython",
    "version": 3
   },
   "file_extension": ".py",
   "mimetype": "text/x-python",
   "name": "python",
   "nbconvert_exporter": "python",
   "pygments_lexer": "ipython3",
   "version": "3.12.7"
  }
 },
 "nbformat": 4,
 "nbformat_minor": 5
}
